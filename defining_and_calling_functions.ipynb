{
 "cells": [
  {
   "cell_type": "markdown",
   "metadata": {},
   "source": [
    "## Defining and Calling Functions"
   ]
  },
  {
   "cell_type": "markdown",
   "metadata": {},
   "source": [
    "I've added a few notes to the notebook I used during class.\n",
    "\n",
    "I like to start a Notebook by showing readers exactly which Python I am using. I chose this one because it seemed close enough to what Kirby has been having the class use so far."
   ]
  },
  {
   "cell_type": "code",
   "execution_count": null,
   "metadata": {
    "collapsed": false
   },
   "outputs": [],
   "source": [
    "import sys\n",
    "sys.version"
   ]
  },
  {
   "cell_type": "markdown",
   "metadata": {},
   "source": [
    "This first definition creates a function whose signature has one mandatory positional parameter and one \"named\" parameter whose default value is `\"Steve\"`. When called, it collects any other positional arguments in the `args` parameter as a tuple, and any other named arguments in the `kw` parameter as a dict."
   ]
  },
  {
   "cell_type": "code",
   "execution_count": null,
   "metadata": {
    "collapsed": false
   },
   "outputs": [],
   "source": [
    "def f(p, *args, n=\"Steve\", **kw):\n",
    "    print(\"p:\", p, \"args:\", args, \"n:\", n, \"kw:\", kw)"
   ]
  },
  {
   "cell_type": "markdown",
   "metadata": {},
   "source": [
    "If you call that function with a few arguments of both types you can see the collection mechanisms at work."
   ]
  },
  {
   "cell_type": "code",
   "execution_count": null,
   "metadata": {
    "collapsed": false
   },
   "outputs": [],
   "source": [
    "f(1, 2, 3, a=1, b=2, n='three')"
   ]
  },
  {
   "cell_type": "markdown",
   "metadata": {},
   "source": [
    "When you omit the `n` argument the `n` parameter gets its default value."
   ]
  },
  {
   "cell_type": "code",
   "execution_count": null,
   "metadata": {
    "collapsed": false
   },
   "outputs": [],
   "source": [
    "f(1, 2, 3, a=1, b=2)"
   ]
  },
  {
   "cell_type": "markdown",
   "metadata": {},
   "source": [
    "One thing that's often overlooked is that collecting surplus positionals with a `*args` parameter stops positional arguments from matching named parameters. Let's take a look at the same function without `*args`."
   ]
  },
  {
   "cell_type": "code",
   "execution_count": null,
   "metadata": {
    "collapsed": false
   },
   "outputs": [],
   "source": [
    "def f(p, n=\"Steve\", **kw):\n",
    "    print(\"p:\", p, \"n:\", n, \"kw:\", kw)"
   ]
  },
  {
   "cell_type": "code",
   "execution_count": null,
   "metadata": {
    "collapsed": false
   },
   "outputs": [],
   "source": [
    "f(1, something_else='value')"
   ]
  },
  {
   "cell_type": "markdown",
   "metadata": {},
   "source": [
    "What's the greatest number of positional arguments you can give when calling this function? Two, because a positional argument can match a named parameter. When matching arguments to parameters, the first thing the interpreter does is to dish out the positional arguments. When **N** positional arguments are given, they match the first **N** parameters _whether those parameters are positional or keyword_."
   ]
  },
  {
   "cell_type": "code",
   "execution_count": null,
   "metadata": {
    "collapsed": false
   },
   "outputs": [],
   "source": [
    "f('one', 'two')"
   ]
  },
  {
   "cell_type": "markdown",
   "metadata": {},
   "source": [
    "How few positional arguments can you get away with? You don't _have_ to give any at all, since _you can also provide named arguments whose names match those of positional parameters_."
   ]
  },
  {
   "cell_type": "code",
   "execution_count": null,
   "metadata": {
    "collapsed": false
   },
   "outputs": [],
   "source": [
    "f(this='extra', that='extra', p='positional', n='named')"
   ]
  },
  {
   "cell_type": "markdown",
   "metadata": {},
   "source": [
    "When the definition includes the `*args` parameter you are explicitly telling the interpreter to collect all positional arguments that don't match positional parameters. _The arguments so collected are therefore no longer available to match up with named parameters_."
   ]
  },
  {
   "cell_type": "code",
   "execution_count": null,
   "metadata": {
    "collapsed": false
   },
   "outputs": [],
   "source": [
    "#\n",
    "# Play with this cell!\n",
    "#\n",
    "# Notebook pro tip: CTRL/ENTER executes the cell\n",
    "#       but keeps it current, allowing easier editing\n",
    "#       of experimental code. One day someone will put\n",
    "#       a git repository behind each cell.\n",
    "#\n",
    "f('play', 'away')"
   ]
  },
  {
   "cell_type": "markdown",
   "metadata": {},
   "source": [
    "### A few more things we covered"
   ]
  },
  {
   "cell_type": "markdown",
   "metadata": {},
   "source": [
    "As I remember it this was my unconvincing attempt to demonstrate that all function attributes are initially inherited from the class (type)."
   ]
  },
  {
   "cell_type": "code",
   "execution_count": null,
   "metadata": {
    "collapsed": false
   },
   "outputs": [],
   "source": [
    "set(dir(type(f))) - set(dir(f))"
   ]
  },
  {
   "cell_type": "markdown",
   "metadata": {},
   "source": [
    "We then observed that function instances do have their own `__dict__`, theoretically allowing for\n",
    "the creation of instance attributes. In this sense of _instance_, the _class_ is the built-in function type\n",
    "and the _instance_ is the object created by the interpreter when processing a `def` statement."
   ]
  },
  {
   "cell_type": "code",
   "execution_count": null,
   "metadata": {
    "collapsed": false
   },
   "outputs": [],
   "source": [
    "f.__dict__ is type(f).__dict__"
   ]
  },
  {
   "cell_type": "code",
   "execution_count": null,
   "metadata": {
    "collapsed": false
   },
   "outputs": [],
   "source": [
    "f.__dict__"
   ]
  },
  {
   "cell_type": "code",
   "execution_count": null,
   "metadata": {
    "collapsed": true
   },
   "outputs": [],
   "source": [
    "f.thing = \"Kirby\""
   ]
  },
  {
   "cell_type": "code",
   "execution_count": null,
   "metadata": {
    "collapsed": false
   },
   "outputs": [],
   "source": [
    "f.__dict__"
   ]
  },
  {
   "cell_type": "markdown",
   "metadata": {},
   "source": [
    "#### Memoizing Functions"
   ]
  },
  {
   "cell_type": "markdown",
   "metadata": {},
   "source": [
    "By now Kirby has probably covered alternative ways of doing this, but here's the definition\n",
    "of a memoized function where we induced artificially poor performance and then improved it by\n",
    "cacheing on a function attribute."
   ]
  },
  {
   "cell_type": "code",
   "execution_count": null,
   "metadata": {
    "collapsed": true
   },
   "outputs": [],
   "source": [
    "import time\n",
    "def r(x):\n",
    "    if x in r._memory:\n",
    "        return r._memory[x]\n",
    "    time.sleep(2)\n",
    "    retval = 42+x\n",
    "    r._memory[x] = retval\n",
    "    return retval\n",
    "r._memory = {}"
   ]
  },
  {
   "cell_type": "code",
   "execution_count": null,
   "metadata": {
    "collapsed": false
   },
   "outputs": [],
   "source": [
    "#\n",
    "# Play with this cell!\n",
    "#\n",
    "r(1)"
   ]
  },
  {
   "cell_type": "markdown",
   "metadata": {},
   "source": [
    "### Final Notes"
   ]
  },
  {
   "cell_type": "markdown",
   "metadata": {},
   "source": [
    "Thanks for the chance to participate in Kirby's class. I greatly enjoyed it,\n",
    "and hope that you all got something extra from the class. I am sure that\n",
    "Kirby is giving you a focused education, and you all seem to be well capable\n",
    "of understanding.\n",
    "\n",
    "Maybe we'll meet again some time!"
   ]
  }
 ],
 "metadata": {
  "kernelspec": {
   "display_name": "Python 3.5",
   "language": "python",
   "name": "py35"
  },
  "language_info": {
   "codemirror_mode": {
    "name": "ipython",
    "version": 3
   },
   "file_extension": ".py",
   "mimetype": "text/x-python",
   "name": "python",
   "nbconvert_exporter": "python",
   "pygments_lexer": "ipython3",
   "version": "3.5.1"
  }
 },
 "nbformat": 4,
 "nbformat_minor": 2
}
